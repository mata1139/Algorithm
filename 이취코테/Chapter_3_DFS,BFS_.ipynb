{
  "nbformat": 4,
  "nbformat_minor": 0,
  "metadata": {
    "colab": {
      "provenance": []
    },
    "kernelspec": {
      "name": "python3",
      "display_name": "Python 3"
    },
    "language_info": {
      "name": "python"
    }
  },
  "cells": [
    {
      "cell_type": "code",
      "execution_count": 7,
      "metadata": {
        "colab": {
          "base_uri": "https://localhost:8080/"
        },
        "id": "4NYHevIwG4MS",
        "outputId": "2c8c99c7-9f31-4fca-ca7c-4f24e2b84592"
      },
      "outputs": [
        {
          "output_type": "stream",
          "name": "stdout",
          "text": [
            "4 5\n",
            "00110\n",
            "00011\n",
            "11111\n",
            "00000\n",
            "3\n"
          ]
        }
      ],
      "source": [
        "# 03 음료수 얼려 먹기\n",
        "\n",
        "N, M = map(int, input().split())\n",
        "\n",
        "ice = []\n",
        "\n",
        "for i in range(N):\n",
        "  ice.append(list(map(int,input())))\n",
        "\n",
        "def dfs(x,y) :\n",
        "\n",
        "  if x < 0 or x >= N or y < 0 or y >= M:\n",
        "    return False\n",
        "\n",
        "  if ice[x][y] == 0:\n",
        "    ice[x][y] = 1\n",
        "\n",
        "    dfs(x-1,y)\n",
        "    dfs(x+1,y)\n",
        "    dfs(x,y-1)\n",
        "    dfs(x,y+1)\n",
        "    return True\n",
        "\n",
        "  else:\n",
        "    return False\n",
        "\n",
        "\n",
        "cream = 0\n",
        "\n",
        "for i in range(N):\n",
        "  for j in range(M):\n",
        "    if dfs(i,j)==True:\n",
        "      cream+=1\n",
        "\n",
        "print(cream)\n"
      ]
    },
    {
      "cell_type": "code",
      "source": [
        "# 04 미로 탈출\n",
        "from collections import deque\n",
        "N, M = map(int, input().split())\n",
        "maze = []\n",
        "\n",
        "dx = [0,0,-1,1]\n",
        "dy = [1,-1,0,0]\n",
        "\n",
        "for i in range(N):\n",
        "  maze.append(list(map(int,input())))\n",
        "\n",
        "queue = deque()\n",
        "queue.append((0,0))\n",
        "\n",
        "while queue:\n",
        "  x,y = queue.popleft()\n",
        "\n",
        "  for i in range(4):\n",
        "    nx = x + dx[i]\n",
        "    ny = y + dy[i]\n",
        "\n",
        "    if nx < 0 or nx >= N or ny < 0 or ny >= M:\n",
        "      continue\n",
        "\n",
        "    if maze[nx][ny] == 0:\n",
        "      continue\n",
        "\n",
        "    if maze[nx][ny] == 1:\n",
        "      maze[nx][ny] = maze[x][y] + 1\n",
        "      queue.append((nx,ny))\n",
        "\n",
        "print(maze[N-1][M-1])\n",
        "\n",
        ""
      ],
      "metadata": {
        "colab": {
          "base_uri": "https://localhost:8080/"
        },
        "id": "nup9KbEiIxe4",
        "outputId": "2d67852a-08a2-4c64-d1a3-9eefb766a5f4"
      },
      "execution_count": 18,
      "outputs": [
        {
          "output_type": "stream",
          "name": "stdout",
          "text": [
            "5 6\n",
            "101010\n",
            "111111\n",
            "000001\n",
            "111111\n",
            "111111\n",
            "10\n"
          ]
        }
      ]
    },
    {
      "cell_type": "code",
      "source": [],
      "metadata": {
        "id": "SQY0YJ00NDME"
      },
      "execution_count": null,
      "outputs": []
    }
  ]
}