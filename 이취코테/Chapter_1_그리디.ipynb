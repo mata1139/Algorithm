{
  "nbformat": 4,
  "nbformat_minor": 0,
  "metadata": {
    "colab": {
      "provenance": []
    },
    "kernelspec": {
      "name": "python3",
      "display_name": "Python 3"
    },
    "language_info": {
      "name": "python"
    }
  },
  "cells": [
    {
      "cell_type": "code",
      "execution_count": 4,
      "metadata": {
        "colab": {
          "base_uri": "https://localhost:8080/"
        },
        "id": "VGsGQHiBJM2h",
        "outputId": "91589580-2b01-4ed6-ea15-fcfee7aabb52"
      },
      "outputs": [
        {
          "output_type": "stream",
          "name": "stdout",
          "text": [
            "1260\n",
            "2 260\n",
            "2 60\n",
            "1 10\n",
            "1 0\n",
            "6\n"
          ]
        }
      ],
      "source": [
        "# 01. 거스름돈\n",
        "\n",
        "coins = [500,100,50,10]\n",
        "\n",
        "n = int(input())\n",
        "count = 0\n",
        "\n",
        "for i in coins:\n",
        "  c, d = divmod(n,i)\n",
        "\n",
        "  count += c\n",
        "  n = d\n",
        "\n",
        "print(count)\n"
      ]
    },
    {
      "cell_type": "code",
      "source": [
        "# 02. 큰 수의 법칙\n",
        "\n",
        "def big_Num(N,M,K,numbers):\n",
        "  sum = 0\n",
        "  count = 0\n",
        "  numbers = sorted(numbers, reverse=True)\n",
        "\n",
        "\n",
        "  first = numbers[0]\n",
        "  second = numbers[1]\n",
        "\n",
        "  while count != M:\n",
        "    if (count % K == 0) and (count!=0) :\n",
        "      sum += second\n",
        "    else:\n",
        "      sum += first\n",
        "\n",
        "    count += 1\n",
        "\n",
        "  return sum\n",
        "\n",
        "\n",
        "N,M,K = map(int,input().split())\n",
        "numbers = map(int,input().split())\n",
        "\n",
        "print(big_Num(N,M,K,numbers))\n",
        "\n",
        "\n",
        "\n",
        "\n",
        "\n",
        "\n",
        "\n"
      ],
      "metadata": {
        "colab": {
          "base_uri": "https://localhost:8080/"
        },
        "id": "3XKCWZYcKE-B",
        "outputId": "f89d7900-196a-4a14-895a-e72dcb6b636c"
      },
      "execution_count": 24,
      "outputs": [
        {
          "output_type": "stream",
          "name": "stdout",
          "text": [
            "5 8 3\n",
            "2 4 5 4 6\n",
            "46\n"
          ]
        }
      ]
    },
    {
      "cell_type": "code",
      "source": [
        "# 03. 숫자 카드 게임\n",
        "\n",
        "N,M = map(int,input().split())\n",
        "matrix = []\n",
        "\n",
        "for i in range(N):\n",
        "  matrix.append(list(map(int,input().split())))\n",
        "\n",
        "\n",
        "big = 0\n",
        "for cards in matrix:\n",
        "  if big < min(cards):\n",
        "    big = min(cards)\n",
        "\n",
        "print(big)\n",
        "\n",
        "\n",
        ""
      ],
      "metadata": {
        "colab": {
          "base_uri": "https://localhost:8080/"
        },
        "id": "DXeKgbYDLFxg",
        "outputId": "4721da36-c756-4045-8468-ea260df606db"
      },
      "execution_count": 29,
      "outputs": [
        {
          "output_type": "stream",
          "name": "stdout",
          "text": [
            "2 4\n",
            "7 3 1 8\n",
            "3 3 3 4\n",
            "3\n"
          ]
        }
      ]
    },
    {
      "cell_type": "code",
      "source": [
        "# 04. 1이 될 때까지\n",
        "\n",
        "N,K = map(int,input().split())\n",
        "\n",
        "count = 0\n",
        "\n",
        "while True:\n",
        "  if N % K != 0:\n",
        "    N -= 1\n",
        "    count+=1\n",
        "  else:\n",
        "    break\n",
        "\n",
        "\n",
        "while True:\n",
        "  if N != 1:\n",
        "    N /= K\n",
        "    count+=1\n",
        "  else:\n",
        "    break\n",
        "\n",
        "\n",
        "print(count)"
      ],
      "metadata": {
        "colab": {
          "base_uri": "https://localhost:8080/"
        },
        "id": "BOLbsDVnQ35G",
        "outputId": "7b90867e-888d-4d4c-fbd2-fe075ed1a2fb"
      },
      "execution_count": 35,
      "outputs": [
        {
          "output_type": "stream",
          "name": "stdout",
          "text": [
            "17 4\n",
            "3\n"
          ]
        }
      ]
    },
    {
      "cell_type": "code",
      "source": [],
      "metadata": {
        "id": "Dxx5OuJdTAx4"
      },
      "execution_count": null,
      "outputs": []
    }
  ]
}