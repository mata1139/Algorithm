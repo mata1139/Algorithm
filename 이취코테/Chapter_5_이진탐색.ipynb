{
  "nbformat": 4,
  "nbformat_minor": 0,
  "metadata": {
    "colab": {
      "provenance": []
    },
    "kernelspec": {
      "name": "python3",
      "display_name": "Python 3"
    },
    "language_info": {
      "name": "python"
    }
  },
  "cells": [
    {
      "cell_type": "code",
      "execution_count": 3,
      "metadata": {
        "colab": {
          "base_uri": "https://localhost:8080/"
        },
        "id": "I3yvIuww50_h",
        "outputId": "80275498-82aa-4f57-b25a-d49725f0aac9"
      },
      "outputs": [
        {
          "output_type": "stream",
          "name": "stdout",
          "text": [
            "5\n",
            "8 3 7 9 2\n",
            "3\n",
            "5 7 9\n",
            "no yes yes "
          ]
        }
      ],
      "source": [
        "# 01. 부품 찾기\n",
        "\n",
        "\n",
        "N = int(input())\n",
        "part = list(map(int,input().split()))\n",
        "\n",
        "part = sorted(part)\n",
        "\n",
        "M = int(input())\n",
        "search = list(map(int,input().split()))\n",
        "\n",
        "\n",
        "def binary_search(array, start, end, target):\n",
        "  while start <= end:\n",
        "    mid = (start + end) // 2\n",
        "\n",
        "    if array[mid] == target :\n",
        "      print(\"yes\", end=' ')\n",
        "      return\n",
        "\n",
        "    elif array[mid] > target:\n",
        "      end = mid -1\n",
        "\n",
        "    elif array[mid] < target:\n",
        "      start = mid + 1\n",
        "\n",
        "\n",
        "  print(\"no\", end = ' ')\n",
        "\n",
        "\n",
        "for i in range(M):\n",
        "  binary_search(part, 0, len(part), search[i])\n"
      ]
    },
    {
      "cell_type": "code",
      "source": [
        "# 02. 떡볶이 떡 만들기\n",
        "\n",
        "n, m = list(map(int, input().split()))\n",
        "\n",
        "array = list(map(int, input().split()))\n",
        "\n",
        "start = 0\n",
        "end = max(array)\n",
        "\n",
        "result = 0\n",
        "while start <= end:\n",
        "  total = 0\n",
        "  mid = (start + end) // 2\n",
        "\n",
        "  for x in array:\n",
        "\n",
        "    if x > mid:\n",
        "      total += (x - mid)\n",
        "\n",
        "  if total < m:\n",
        "    end = mid - 1\n",
        "\n",
        "  else:\n",
        "    result = mid\n",
        "    start = mid + 1\n",
        "\n",
        "print(result)"
      ],
      "metadata": {
        "colab": {
          "base_uri": "https://localhost:8080/"
        },
        "id": "BF22PZFh7Uc4",
        "outputId": "57caec67-3508-4959-b5df-d549b55089aa"
      },
      "execution_count": 8,
      "outputs": [
        {
          "output_type": "stream",
          "name": "stdout",
          "text": [
            "4 6\n",
            "19 15 10 17\n",
            "15\n"
          ]
        }
      ]
    },
    {
      "cell_type": "code",
      "source": [],
      "metadata": {
        "id": "mmV8dgDe92H1"
      },
      "execution_count": null,
      "outputs": []
    }
  ]
}