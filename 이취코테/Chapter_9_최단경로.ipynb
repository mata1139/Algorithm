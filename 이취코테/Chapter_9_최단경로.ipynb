{
  "nbformat": 4,
  "nbformat_minor": 0,
  "metadata": {
    "colab": {
      "provenance": []
    },
    "kernelspec": {
      "name": "python3",
      "display_name": "Python 3"
    },
    "language_info": {
      "name": "python"
    }
  },
  "cells": [
    {
      "cell_type": "code",
      "execution_count": 2,
      "metadata": {
        "colab": {
          "base_uri": "https://localhost:8080/"
        },
        "id": "xvAnQCd6JPWr",
        "outputId": "e09a38f5-90b9-4728-f6b0-f2440c4fa0e4"
      },
      "outputs": [
        {
          "output_type": "stream",
          "name": "stdout",
          "text": [
            "5 7\n",
            "1 2\n",
            "1 3\n",
            "1 4\n",
            "2 4\n",
            "3 4\n",
            "3 5\n",
            "4 5\n",
            "4 5\n",
            "3\n"
          ]
        }
      ],
      "source": [
        "INF = int(1e9)\n",
        "\n",
        "n,m = map(int,input().split())\n",
        "\n",
        "graph = [[INF] * (n+1) for _ in range(n+1)]\n",
        "\n",
        "for a in range(1, n+1):\n",
        "  for b in range(1,n+1):\n",
        "    if a==b:\n",
        "      graph[a][b] = 0\n",
        "\n",
        "for _ in range(m):\n",
        "\n",
        "  a,b = map(int,input().split())\n",
        "  graph[a][b] = 1\n",
        "  graph[b][a] = 1\n",
        "\n",
        "\n",
        "x, k = map(int,input().split())\n",
        "\n",
        "for i in range(1,n+1):\n",
        "  for a in range(1,n+1):\n",
        "    for b in range(1,n+1):\n",
        "      graph[a][b] = min(graph[a][b], graph[a][i] + graph[i][b])\n",
        "\n",
        "distance = graph[1][k] + graph[k][x]\n",
        "\n",
        "\n",
        "print(distance)"
      ]
    },
    {
      "cell_type": "code",
      "source": [
        "import heapq\n",
        "import sys\n",
        "\n",
        "imput = sys.stdin.readline\n",
        "INF = int(1e9)\n",
        "\n",
        "n,m,start = map(int,input().split())\n",
        "\n",
        "graph = [[] for i in range(n+1)]\n",
        "\n",
        "distance = [INF] * (n+1)\n",
        "\n",
        "for _ in range(m):\n",
        "  x,y,z = map(int,input().split())\n",
        "  graph[x].append((y,z))\n",
        "\n",
        "def dijkstra(start):\n",
        "  q = []\n",
        "  heapq.heappush(q,(0,start))\n",
        "  distance[start] = 0\n",
        "\n",
        "  while q :\n",
        "    dist, now = heapq.heappop(q)\n",
        "    if distance[now] < dist:\n",
        "      continue\n",
        "\n",
        "    for i in graph[now]:\n",
        "      cost = dist + i[1]\n",
        "\n",
        "      if cost < distance[i[0]]:\n",
        "        distance[i[0]] = cost\n",
        "        heapq.heappush(q,(cost,i[0]))\n",
        "\n",
        "dijkstra(start)\n",
        "\n",
        "\n",
        "\n",
        "count = 0\n",
        "\n",
        "max_distance=0\n",
        "\n",
        "for d in distance:\n",
        "\n",
        "  if d != INF:\n",
        "    count+=1\n",
        "    max_distance = max(d,max_distance)\n",
        "\n",
        "print(count-1, max_distance)\n"
      ],
      "metadata": {
        "colab": {
          "base_uri": "https://localhost:8080/"
        },
        "id": "EZk3WDRzKIrp",
        "outputId": "e2b2f622-39a4-497c-bd09-b49077c144b5"
      },
      "execution_count": 8,
      "outputs": [
        {
          "output_type": "stream",
          "name": "stdout",
          "text": [
            "3 2 1\n",
            "1 2 4\n",
            "1 3 2\n",
            "2 4\n"
          ]
        }
      ]
    },
    {
      "cell_type": "code",
      "source": [],
      "metadata": {
        "id": "4lHNxRLMMC88"
      },
      "execution_count": null,
      "outputs": []
    }
  ]
}