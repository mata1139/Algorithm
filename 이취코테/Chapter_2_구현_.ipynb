{
  "nbformat": 4,
  "nbformat_minor": 0,
  "metadata": {
    "colab": {
      "provenance": []
    },
    "kernelspec": {
      "name": "python3",
      "display_name": "Python 3"
    },
    "language_info": {
      "name": "python"
    }
  },
  "cells": [
    {
      "cell_type": "code",
      "execution_count": 4,
      "metadata": {
        "colab": {
          "base_uri": "https://localhost:8080/"
        },
        "id": "Lnjgi_WpdVnr",
        "outputId": "51742db9-2a71-494e-b677-10dc2b44a60a"
      },
      "outputs": [
        {
          "output_type": "stream",
          "name": "stdout",
          "text": [
            "5\n",
            "R R R U D D\n",
            "3 4\n"
          ]
        }
      ],
      "source": [
        "# 01. 상하좌우\n",
        "\n",
        "border = int(input())\n",
        "plan = input().split()\n",
        "\n",
        "dy = [0,0,-1,1]\n",
        "dx = [-1,1,0,0]\n",
        "moves = {'L':0, 'R':1, 'U':2, 'D':3}\n",
        "\n",
        "x,y = 1,1\n",
        "\n",
        "for move in plan:\n",
        "  ny = dy[moves[move]]\n",
        "  nx = dx[moves[move]]\n",
        "\n",
        "  if (x + nx) >= 1 and (x + nx) <= border:\n",
        "    if (y + ny) >= 1 and (y + ny) <= border:\n",
        "      x += nx\n",
        "      y += ny\n",
        "\n",
        "print(y,x)"
      ]
    },
    {
      "cell_type": "code",
      "source": [
        "# 02. 시각\n",
        "\n",
        "n = int(input())\n",
        "count = 0\n",
        "\n",
        "for h in range(n+1):\n",
        "  for m in range(60):\n",
        "    for s in range(60):\n",
        "      if '3' in (str(h)+str(m)+str(s)):\n",
        "        count+=1\n",
        "\n",
        "print(count)"
      ],
      "metadata": {
        "colab": {
          "base_uri": "https://localhost:8080/"
        },
        "id": "MLKuakO5f7it",
        "outputId": "e8e8bd7c-9639-4777-d74c-69ee43d639ca"
      },
      "execution_count": 8,
      "outputs": [
        {
          "output_type": "stream",
          "name": "stdout",
          "text": [
            "5\n",
            "11475\n"
          ]
        }
      ]
    },
    {
      "cell_type": "code",
      "source": [
        "# 03. 왕실의 나이트\n",
        "\n",
        "row = ['a','b','c','d','e','f','g','h']\n",
        "\n",
        "moves = [(2,1),(2,-1),(-2,1),(-2,-1),(1,2),(1,-2),(-1,2),(-1,-2)]\n",
        "\n",
        "border = 8\n",
        "\n",
        "pos = input()\n",
        "\n",
        "x = row.index(pos[0])+1\n",
        "y = int(pos[1])\n",
        "\n",
        "count=0\n",
        "\n",
        "for move in moves:\n",
        "  if (move[0] + x) >=1 and (move[0] + x) <=8:\n",
        "    if (move[1] + y) >=1 and (move[1] + y) <=8:\n",
        "      count+=1\n",
        "\n",
        "print(count)"
      ],
      "metadata": {
        "colab": {
          "base_uri": "https://localhost:8080/"
        },
        "id": "ApwNyuOmhF3M",
        "outputId": "3a7a8d2b-7404-451b-efe5-0c51d052d041"
      },
      "execution_count": 14,
      "outputs": [
        {
          "output_type": "stream",
          "name": "stdout",
          "text": [
            "c2\n",
            "6\n"
          ]
        }
      ]
    },
    {
      "cell_type": "code",
      "source": [
        "# 04. 게임 개발\n",
        "\n",
        "N,M = map(int,input().split())\n",
        "\n",
        "y,x,dir = map(int,input().split())\n",
        "\n",
        "game_map = []\n",
        "\n",
        "for i in range(N):\n",
        "  game_map.append(list(map(int,input().split())))\n",
        "\n",
        "game_map[y][x]=-1\n",
        "\n",
        "# 북 동 남 서\n",
        "dy = [-1,0,1,0]\n",
        "dx = [0,1,0,-1]\n",
        "\n",
        "turn_time = 0\n",
        "count = 1\n",
        "while True:\n",
        "  # 1\n",
        "  dir -= 1\n",
        "  if dir == -1:\n",
        "    dir = 3\n",
        "\n",
        "  check = True\n",
        "\n",
        "  # 갈수 있는 곳인지 검사,\n",
        "  if (y + dy[dir] >=0) and (y + dy[dir] < N):\n",
        "    if (x + dx[dir] >=0) and (x + dx[dir] < M):\n",
        "      # 육지인지 검사,\n",
        "        if game_map[y+dy[dir]][x+dx[dir]] == 0 :\n",
        "\n",
        "          count+=1\n",
        "          turn_time =0\n",
        "\n",
        "          game_map[y+dy[dir]][x+dx[dir]] = -1\n",
        "\n",
        "          x += dx[dir]\n",
        "          y += dy[dir]\n",
        "          check = False\n",
        "\n",
        "  if check :\n",
        "    turn_time += 1\n",
        "\n",
        "\n",
        "  if turn_time == 4:\n",
        "\n",
        "    x -= dx[dir]\n",
        "    y -= dy[dir]\n",
        "    turn_time = 0\n",
        "\n",
        "    if game_map[y][x] == 1:\n",
        "      break\n",
        "\n",
        "\n",
        "\n",
        "print(count)"
      ],
      "metadata": {
        "colab": {
          "base_uri": "https://localhost:8080/"
        },
        "id": "H3lxtuYajPEc",
        "outputId": "a1e84e99-a83b-4966-9eb8-24bea48d5514"
      },
      "execution_count": 29,
      "outputs": [
        {
          "output_type": "stream",
          "name": "stdout",
          "text": [
            "4 4\n",
            "1 1 0\n",
            "1 1 1 1\n",
            "1 0 0 1\n",
            "1 1 0 1\n",
            "1 1 1 1\n",
            "3\n"
          ]
        }
      ]
    },
    {
      "cell_type": "code",
      "source": [],
      "metadata": {
        "colab": {
          "base_uri": "https://localhost:8080/"
        },
        "id": "tDjP6oCJnybn",
        "outputId": "f9c768fc-3996-4969-dfcc-c275878c50b4"
      },
      "execution_count": 18,
      "outputs": [
        {
          "output_type": "execute_result",
          "data": {
            "text/plain": [
              "1"
            ]
          },
          "metadata": {},
          "execution_count": 18
        }
      ]
    },
    {
      "cell_type": "code",
      "source": [],
      "metadata": {
        "id": "OikD3xjPp32m"
      },
      "execution_count": null,
      "outputs": []
    }
  ]
}