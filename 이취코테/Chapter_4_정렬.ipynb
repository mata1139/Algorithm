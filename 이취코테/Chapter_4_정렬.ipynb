{
  "nbformat": 4,
  "nbformat_minor": 0,
  "metadata": {
    "colab": {
      "provenance": []
    },
    "kernelspec": {
      "name": "python3",
      "display_name": "Python 3"
    },
    "language_info": {
      "name": "python"
    }
  },
  "cells": [
    {
      "cell_type": "code",
      "execution_count": 3,
      "metadata": {
        "colab": {
          "base_uri": "https://localhost:8080/"
        },
        "id": "O6e5tOLq3Yob",
        "outputId": "4efcae83-9ab8-4874-fe5f-04f9adc679ad"
      },
      "outputs": [
        {
          "output_type": "stream",
          "name": "stdout",
          "text": [
            "3\n",
            "27\n",
            "15\n",
            "12\n",
            "[27, 15, 12]\n"
          ]
        }
      ],
      "source": [
        "# 01 위에서 아래로\n",
        "\n",
        "N = int(input())\n",
        "number=[]\n",
        "for i in range(N):\n",
        "  number.append(int(input()))\n",
        "\n",
        "print(sorted(number,reverse=True))\n"
      ]
    },
    {
      "cell_type": "code",
      "source": [
        "# 02 성적이 낮은 순서로 학생 출력하기\n",
        "\n",
        "N = int(input())\n",
        "students = []\n",
        "\n",
        "for i in range(N):\n",
        "  students.append(input().split())\n",
        "\n",
        "students = sorted(students,key = lambda x : int(x[1]))\n",
        "\n",
        "for student in students:\n",
        "  print(student[0], end=' ')"
      ],
      "metadata": {
        "colab": {
          "base_uri": "https://localhost:8080/"
        },
        "id": "SRjWQWby3v44",
        "outputId": "a1d84040-71ce-49dd-dc33-2d99b20a14a2"
      },
      "execution_count": 7,
      "outputs": [
        {
          "output_type": "stream",
          "name": "stdout",
          "text": [
            "2\n",
            "홍길동 95\n",
            "이순신 77\n",
            "이순신 홍길동 "
          ]
        }
      ]
    },
    {
      "cell_type": "code",
      "source": [
        "# 03 두 배열의 원소 교체\n",
        "\n",
        "N, K = map(int,input().split())\n",
        "\n",
        "A = list(map(int,input().split()))\n",
        "B = list(map(int,input().split()))\n",
        "\n",
        "A = sorted(A)\n",
        "B = sorted(B,reverse = True)\n",
        "\n",
        "for i in range(K):\n",
        "\n",
        "  if A[i] < B[i]:\n",
        "    A[i],B[i] = B[i],A[i]\n",
        "\n",
        "  else:\n",
        "    break\n",
        "\n",
        "print(sum(A))\n",
        "\n",
        "\n"
      ],
      "metadata": {
        "colab": {
          "base_uri": "https://localhost:8080/"
        },
        "id": "Ewwv74Pn4IbV",
        "outputId": "f59094a9-b9fe-42c2-9e09-48e2eb48e5cb"
      },
      "execution_count": 10,
      "outputs": [
        {
          "output_type": "stream",
          "name": "stdout",
          "text": [
            "5 3\n",
            "1 2 5 4 3\n",
            "5 5 6 6 5\n",
            "26\n"
          ]
        }
      ]
    },
    {
      "cell_type": "code",
      "source": [],
      "metadata": {
        "id": "4A-f6gf25pTv"
      },
      "execution_count": null,
      "outputs": []
    }
  ]
}