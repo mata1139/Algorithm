{
  "nbformat": 4,
  "nbformat_minor": 0,
  "metadata": {
    "colab": {
      "provenance": []
    },
    "kernelspec": {
      "name": "python3",
      "display_name": "Python 3"
    },
    "language_info": {
      "name": "python"
    }
  },
  "cells": [
    {
      "cell_type": "code",
      "execution_count": 2,
      "metadata": {
        "colab": {
          "base_uri": "https://localhost:8080/"
        },
        "id": "OenmMxTmnBj6",
        "outputId": "0f56ef1c-9737-4286-eb43-135514d445d8"
      },
      "outputs": [
        {
          "output_type": "stream",
          "name": "stdout",
          "text": [
            "26\n",
            "3\n"
          ]
        }
      ],
      "source": [
        "# 01. 1로 만들기\n",
        "\n",
        "x = int(input())\n",
        "\n",
        "d = [0] * 30001\n",
        "\n",
        "for i in range(2, x+1):\n",
        "  d[i] = d[i-1] + 1\n",
        "\n",
        "  if i % 2 == 0:\n",
        "    d[i] = min(d[i], d[i//2]+1)\n",
        "\n",
        "  if i % 3 == 0:\n",
        "    d[i] = min(d[i], d[i//3]+1)\n",
        "\n",
        "  if i % 5 == 0:\n",
        "    d[i] = min(d[i], d[i//5]+1)\n",
        "\n",
        "print(d[x])"
      ]
    },
    {
      "cell_type": "code",
      "source": [
        "n = int(input())\n",
        "\n",
        "food = list(map(int,input().split()))\n",
        "\n",
        "d = [0] * 100\n",
        "\n",
        "d[0] = food[0]\n",
        "d[1] = max(food[0],food[1])\n",
        "\n",
        "for i in range(2,n):\n",
        "  d[i] = max(d[i-1],d[i-2]+food[i])\n",
        "\n",
        "print(d[n-1])"
      ],
      "metadata": {
        "colab": {
          "base_uri": "https://localhost:8080/"
        },
        "id": "N12XXDwOpRHr",
        "outputId": "3a805282-c61b-48a6-ac25-c31e348c0551"
      },
      "execution_count": 3,
      "outputs": [
        {
          "output_type": "stream",
          "name": "stdout",
          "text": [
            "4\n",
            "1 3 1 5\n",
            "8\n"
          ]
        }
      ]
    },
    {
      "cell_type": "code",
      "source": [
        "n = int(input())\n",
        "\n",
        "\n",
        "d = [0] * 1001\n",
        "\n",
        "d[1] = 1\n",
        "d[2] = 3\n",
        "for i in range(3,n+1):\n",
        "  d[i] = (d[i-1] + 2 * d[i-2] % 796796)\n",
        "\n",
        "print(d[n])"
      ],
      "metadata": {
        "colab": {
          "base_uri": "https://localhost:8080/"
        },
        "id": "CZQOe9AsqlrK",
        "outputId": "aadf7486-bcaf-400f-d854-aae94e95fdbd"
      },
      "execution_count": 4,
      "outputs": [
        {
          "output_type": "stream",
          "name": "stdout",
          "text": [
            "3\n",
            "5\n"
          ]
        }
      ]
    },
    {
      "cell_type": "code",
      "source": [
        "n,m = map(int,input().split())\n",
        "\n",
        "array = []\n",
        "for i in range(n):\n",
        "  array.append(int(input()))\n",
        "\n",
        "d = [10001] * (m+1)\n",
        "\n",
        "d[0] = 0\n",
        "for i in range(n):\n",
        "  for j in range(array[i], m+1):\n",
        "    if d[j-array[i]] != 10001:\n",
        "      d[j] = min(d[j], d[j-array[i]]+1)\n",
        "\n",
        "if d[m] == 1001:\n",
        "  print(-1)\n",
        "else:\n",
        "  print(d[m])"
      ],
      "metadata": {
        "colab": {
          "base_uri": "https://localhost:8080/"
        },
        "id": "1uYjwqL4yL8_",
        "outputId": "df539c94-6f11-4ae4-a010-79c31595a920"
      },
      "execution_count": 6,
      "outputs": [
        {
          "output_type": "stream",
          "name": "stdout",
          "text": [
            "2 15\n",
            "2\n",
            "3\n",
            "5\n"
          ]
        }
      ]
    },
    {
      "cell_type": "code",
      "source": [],
      "metadata": {
        "id": "mP25u3fHysjS"
      },
      "execution_count": null,
      "outputs": []
    }
  ]
}